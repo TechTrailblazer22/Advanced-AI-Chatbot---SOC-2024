{
  "nbformat": 4,
  "nbformat_minor": 0,
  "metadata": {
    "colab": {
      "provenance": [],
      "gpuType": "T4",
      "authorship_tag": "ABX9TyMXaNRPhpY6CwijIbbcwWfM",
      "include_colab_link": true
    },
    "kernelspec": {
      "name": "python3",
      "display_name": "Python 3"
    },
    "language_info": {
      "name": "python"
    },
    "accelerator": "GPU"
  },
  "cells": [
    {
      "cell_type": "markdown",
      "metadata": {
        "id": "view-in-github",
        "colab_type": "text"
      },
      "source": [
        "<a href=\"https://colab.research.google.com/github/TechTrailblazer22/Advanced-AI-Chatbot---SOC-2024/blob/main/Object_Detection.ipynb\" target=\"_parent\"><img src=\"https://colab.research.google.com/assets/colab-badge.svg\" alt=\"Open In Colab\"/></a>"
      ]
    },
    {
      "cell_type": "code",
      "execution_count": null,
      "metadata": {
        "colab": {
          "base_uri": "https://localhost:8080/"
        },
        "id": "J7OQmGhVpDaX",
        "outputId": "8d507545-0fd5-46a8-86f2-a81dddc73f1b"
      },
      "outputs": [
        {
          "output_type": "stream",
          "name": "stdout",
          "text": [
            "Downloading data from https://www.cs.toronto.edu/~kriz/cifar-10-python.tar.gz\n",
            "170498071/170498071 [==============================] - 4s 0us/step\n",
            "Downloading data from https://storage.googleapis.com/tensorflow/keras-applications/resnet/resnet50_weights_tf_dim_ordering_tf_kernels_notop.h5\n",
            "94765736/94765736 [==============================] - 0s 0us/step\n",
            "Epoch 1/10\n",
            "704/704 - 73s - loss: 1.4072 - accuracy: 0.5591 - val_loss: 2.0998 - val_accuracy: 0.2652 - 73s/epoch - 104ms/step\n",
            "Epoch 2/10\n",
            "704/704 - 33s - loss: 0.9376 - accuracy: 0.6873 - val_loss: 1.5751 - val_accuracy: 0.5340 - 33s/epoch - 46ms/step\n",
            "Epoch 3/10\n",
            "704/704 - 35s - loss: 0.7664 - accuracy: 0.7483 - val_loss: 1.4780 - val_accuracy: 0.5602 - 35s/epoch - 50ms/step\n",
            "Epoch 4/10\n",
            "704/704 - 34s - loss: 0.6661 - accuracy: 0.7788 - val_loss: 1.1264 - val_accuracy: 0.6782 - 34s/epoch - 48ms/step\n",
            "Epoch 5/10\n",
            "704/704 - 33s - loss: 0.7442 - accuracy: 0.7573 - val_loss: 0.7800 - val_accuracy: 0.7490 - 33s/epoch - 47ms/step\n",
            "Epoch 6/10\n",
            "704/704 - 33s - loss: 0.5920 - accuracy: 0.8054 - val_loss: 0.8839 - val_accuracy: 0.7244 - 33s/epoch - 47ms/step\n",
            "Epoch 7/10\n",
            "704/704 - 33s - loss: 0.5564 - accuracy: 0.8180 - val_loss: 0.8269 - val_accuracy: 0.7332 - 33s/epoch - 47ms/step\n",
            "Epoch 8/10\n",
            "704/704 - 34s - loss: 0.4554 - accuracy: 0.8494 - val_loss: 1.2219 - val_accuracy: 0.6794 - 34s/epoch - 48ms/step\n",
            "Epoch 9/10\n",
            "704/704 - 34s - loss: 0.4146 - accuracy: 0.8651 - val_loss: 7.1725 - val_accuracy: 0.3520 - 34s/epoch - 48ms/step\n",
            "Epoch 10/10\n",
            "704/704 - 34s - loss: 0.5068 - accuracy: 0.8321 - val_loss: 0.9634 - val_accuracy: 0.7242 - 34s/epoch - 48ms/step\n",
            "313/313 [==============================] - 5s 12ms/step - loss: 0.9660 - accuracy: 0.7192\n",
            "Loss = 0.9660008549690247\n",
            "Test Accuracy = 0.7192000150680542\n"
          ]
        }
      ],
      "source": [
        "import numpy as np\n",
        "import matplotlib.pyplot as plt\n",
        "import tensorflow as tf\n",
        "from tensorflow.keras import layers, models, initializers\n",
        "from tensorflow.keras.layers import Input, Dense, Activation, ZeroPadding2D, BatchNormalization, Flatten, Dropout\n",
        "from tensorflow.keras.optimizers import Adam\n",
        "from tensorflow.keras.applications import ResNet50\n",
        "from sklearn.model_selection import train_test_split\n",
        "\n",
        "# Load CIFAR-10 dataset from tensorflow.keras.datasets\n",
        "(x_train, y_train), (x_test, y_test) = tf.keras.datasets.cifar10.load_data()\n",
        "\n",
        "# Normalize image vectors\n",
        "x_train = x_train / 255.0\n",
        "x_test = x_test / 255.0\n",
        "\n",
        "# Split the data into training, testing, and cross-validation sets\n",
        "x_train, x_cv, y_train, y_cv = train_test_split(x_train, y_train, test_size=0.1, random_state=42)\n",
        "\n",
        "# Load pre-trained ResNet50 model\n",
        "resnet_model = ResNet50(weights='imagenet', include_top=False, input_shape=(32, 32, 3))\n",
        "\n",
        "# Create your own model on top of ResNet50\n",
        "model = models.Sequential()\n",
        "model.add(resnet_model)\n",
        "model.add(layers.Flatten())\n",
        "model.add(layers.Dense(1024, activation='relu'))\n",
        "model.add(layers.Dropout(0.3))\n",
        "model.add(layers.Dense(10, activation='softmax'))\n",
        "\n",
        "# Compile the model\n",
        "model.compile(optimizer=Adam(learning_rate=0.001), loss='sparse_categorical_crossentropy', metrics=['accuracy'])\n",
        "\n",
        "# Train the model\n",
        "model.fit(x_train, y_train, epochs=10, batch_size=64, validation_data=(x_cv, y_cv), verbose=2)\n",
        "\n",
        "# Evaluate the model on the test set\n",
        "preds = model.evaluate(x_test, y_test)\n",
        "print(\"Loss =\", preds[0])\n",
        "print(\"Test Accuracy =\", preds[1])\n",
        "\n",
        "# Save or analyze results as needed\n"
      ]
    },
    {
      "cell_type": "code",
      "source": [],
      "metadata": {
        "id": "upl8fWEtpEnY"
      },
      "execution_count": null,
      "outputs": []
    }
  ]
}